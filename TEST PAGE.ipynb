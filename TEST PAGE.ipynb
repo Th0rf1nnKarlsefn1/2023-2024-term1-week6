{
 "cells": [
  {
   "cell_type": "code",
   "execution_count": 3,
   "id": "78951c4d",
   "metadata": {},
   "outputs": [],
   "source": [
    "int1 = 123\n",
    "int2 = 456\n",
    "int3 = 789\n",
    "float1 = 123.0\n",
    "float2 = 456.0\n",
    "float3 = 789.0"
   ]
  },
  {
   "cell_type": "code",
   "execution_count": 4,
   "id": "8e1c48e2",
   "metadata": {},
   "outputs": [
    {
     "data": {
      "text/plain": [
       "99250068772098856700831462057469632637295940819886900519816298881382867104749399077921128661426144638055424236936271872492800352741649902118143819672601569998100120790496759517636465445895625741609866209900500198407153244604778968016963028050310261417615914468729918240685487878617645976939063464357986165711730976399478507649228686341466967167910126653342134942744851463899927487092486610977146112763567101672645953132196481439339873017088140414661271198500333255713096142335151414630651683065518784081203678487703002802082091236603519026256880624499681781387227574035484831271515683123742149095569260463609655977700938844580611931246495166208695540313698140011638027322566252689780838136351828795314272162111222231170901715612355701347552371530013693855379834865667060014643302459100429783653966913783002290784283455628283355470529932956051484477129333881159930212758687602795088579230431661696010232187390436601614145603241902386663442520160735566561"
      ]
     },
     "execution_count": 4,
     "metadata": {},
     "output_type": "execute_result"
    }
   ],
   "source": [
    "int1**int2"
   ]
  },
  {
   "cell_type": "code",
   "execution_count": 5,
   "id": "d4afeee6",
   "metadata": {},
   "outputs": [
    {
     "ename": "OverflowError",
     "evalue": "(34, 'Result too large')",
     "output_type": "error",
     "traceback": [
      "\u001b[1;31m---------------------------------------------------------------------------\u001b[0m",
      "\u001b[1;31mOverflowError\u001b[0m                             Traceback (most recent call last)",
      "Cell \u001b[1;32mIn[5], line 1\u001b[0m\n\u001b[1;32m----> 1\u001b[0m float1\u001b[38;5;241m*\u001b[39m\u001b[38;5;241m*\u001b[39mfloat2\n",
      "\u001b[1;31mOverflowError\u001b[0m: (34, 'Result too large')"
     ]
    }
   ],
   "source": [
    "float1**float2"
   ]
  },
  {
   "cell_type": "code",
   "execution_count": 6,
   "id": "754ed938",
   "metadata": {},
   "outputs": [
    {
     "data": {
      "text/plain": [
       "1.0"
      ]
     },
     "execution_count": 6,
     "metadata": {},
     "output_type": "execute_result"
    }
   ],
   "source": [
    "from math import cos,sin,exp,log\n",
    "log(exp(1))"
   ]
  },
  {
   "cell_type": "code",
   "execution_count": 7,
   "id": "e682bf58",
   "metadata": {},
   "outputs": [
    {
     "data": {
      "text/plain": [
       "0j"
      ]
     },
     "execution_count": 7,
     "metadata": {},
     "output_type": "execute_result"
    }
   ],
   "source": [
    "complex1 = 123+0j\n",
    "complex2 = 456+0j\n",
    "complex3 = 789+0j\n",
    "complex4 = complex(int1,int2)\n",
    "complex5 = complex(float1,float2)\n",
    "complex1-int1"
   ]
  },
  {
   "cell_type": "code",
   "execution_count": 10,
   "id": "f9f42111",
   "metadata": {},
   "outputs": [
    {
     "data": {
      "text/plain": [
       "complex"
      ]
     },
     "execution_count": 10,
     "metadata": {},
     "output_type": "execute_result"
    }
   ],
   "source": [
    "type(complex1/float1)"
   ]
  },
  {
   "cell_type": "code",
   "execution_count": 12,
   "id": "f9b358ab",
   "metadata": {},
   "outputs": [
    {
     "data": {
      "text/plain": [
       "123.0"
      ]
     },
     "execution_count": 12,
     "metadata": {},
     "output_type": "execute_result"
    }
   ],
   "source": [
    "complex4.real"
   ]
  },
  {
   "cell_type": "code",
   "execution_count": 13,
   "id": "78f1e868",
   "metadata": {},
   "outputs": [
    {
     "data": {
      "text/plain": [
       "2.718281828459045"
      ]
     },
     "execution_count": 13,
     "metadata": {},
     "output_type": "execute_result"
    }
   ],
   "source": [
    "2 + True\n",
    "5 * False\n",
    "7 ** False\n",
    "exp(True)"
   ]
  },
  {
   "cell_type": "code",
   "execution_count": 14,
   "id": "0a61be76",
   "metadata": {},
   "outputs": [
    {
     "data": {
      "text/plain": [
       "2"
      ]
     },
     "execution_count": 14,
     "metadata": {},
     "output_type": "execute_result"
    }
   ],
   "source": [
    "2"
   ]
  },
  {
   "cell_type": "code",
   "execution_count": 15,
   "id": "9fcfb2ab",
   "metadata": {},
   "outputs": [
    {
     "data": {
      "text/plain": [
       "3"
      ]
     },
     "execution_count": 15,
     "metadata": {},
     "output_type": "execute_result"
    }
   ],
   "source": [
    "2 + True"
   ]
  },
  {
   "cell_type": "code",
   "execution_count": 18,
   "id": "1164149b",
   "metadata": {},
   "outputs": [
    {
     "data": {
      "text/plain": [
       "0"
      ]
     },
     "execution_count": 18,
     "metadata": {},
     "output_type": "execute_result"
    }
   ],
   "source": [
    "5 * False"
   ]
  },
  {
   "cell_type": "code",
   "execution_count": 24,
   "id": "21088b12",
   "metadata": {},
   "outputs": [
    {
     "data": {
      "text/plain": [
       "True"
      ]
     },
     "execution_count": 24,
     "metadata": {},
     "output_type": "execute_result"
    }
   ],
   "source": [
    "False ^ True"
   ]
  },
  {
   "cell_type": "code",
   "execution_count": 28,
   "id": "b6e8b8d8",
   "metadata": {},
   "outputs": [
    {
     "data": {
      "text/plain": [
       "1"
      ]
     },
     "execution_count": 28,
     "metadata": {},
     "output_type": "execute_result"
    }
   ],
   "source": [
    "4^5"
   ]
  },
  {
   "cell_type": "code",
   "execution_count": 27,
   "id": "acd63877",
   "metadata": {},
   "outputs": [
    {
     "data": {
      "text/plain": [
       "12"
      ]
     },
     "execution_count": 27,
     "metadata": {},
     "output_type": "execute_result"
    }
   ],
   "source": [
    "4^8"
   ]
  },
  {
   "cell_type": "code",
   "execution_count": 37,
   "id": "c02bd13f",
   "metadata": {},
   "outputs": [
    {
     "data": {
      "text/plain": [
       "10"
      ]
     },
     "execution_count": 37,
     "metadata": {},
     "output_type": "execute_result"
    }
   ],
   "source": [
    "2^8"
   ]
  },
  {
   "cell_type": "code",
   "execution_count": 2,
   "id": "bfd7df9e",
   "metadata": {},
   "outputs": [],
   "source": [
    "list1 = [0+0j, 'one', 2, 3.0, 4+0j, 'five', 6, 7.0, 8+0j, 'nine', 10, 11.0, 12+0j, 'thirteen', 14, 15.0]"
   ]
  },
  {
   "cell_type": "code",
   "execution_count": 3,
   "id": "76ced56f",
   "metadata": {},
   "outputs": [],
   "source": [
    "list1.extend([16+0j,'seventeen',18,19.0])"
   ]
  },
  {
   "cell_type": "code",
   "execution_count": 5,
   "id": "c399358f",
   "metadata": {},
   "outputs": [
    {
     "name": "stdout",
     "output_type": "stream",
     "text": [
      "[0j, 'uno', 2, 3.0, (4+0j), 'cinco', 6, 7.0, (8+0j), 'nueve', 10, 11.0, (12+0j), 'trece', 'diecisiete', 'diecisiete', (16+0j), 'seventeen', 18, 19.0]\n"
     ]
    }
   ],
   "source": [
    "indexes_to_replace = [1, 5, 9, 13, 14, 15]\n",
    "replacement_strings = ['uno', 'cinco', 'nueve', 'trece', 'diecisiete']\n",
    "\n",
    "for idx, replacement in zip(indexes_to_replace, replacement_strings):\n",
    "    list1[idx] = replacement\n",
    "\n",
    "print(list1)"
   ]
  },
  {
   "cell_type": "code",
   "execution_count": 2,
   "id": "0d6fe38b",
   "metadata": {},
   "outputs": [
    {
     "name": "stdout",
     "output_type": "stream",
     "text": [
      "(0j, 'uno', 2, 3.0, (4+0j), 'cinco', 6, 7.0, (8+0j), 'nueve', 10, 11.0, (12+0j), 'trece', 14, 'diecisiete')\n"
     ]
    }
   ],
   "source": [
    "tuple1 = (0+0j, 'one', 2, 3.0, 4+0j, 'five', 6, 7.0, 8+0j, 'nine', 10, 11.0, 12+0j, 'thirteen', 14, 15.0)\n",
    "\n",
    "replacements = {1: 'uno', 5: 'cinco', 9: 'nueve', 13: 'trece', 15: 'diecisiete'}\n",
    "\n",
    "new_tuple = tuple(replacements.get(i, v) for i, v in enumerate(tuple1))\n",
    "\n",
    "print(new_tuple)"
   ]
  },
  {
   "cell_type": "code",
   "execution_count": null,
   "id": "34cde2c8",
   "metadata": {},
   "outputs": [],
   "source": []
  }
 ],
 "metadata": {
  "kernelspec": {
   "display_name": "Python 3 (ipykernel)",
   "language": "python",
   "name": "python3"
  },
  "language_info": {
   "codemirror_mode": {
    "name": "ipython",
    "version": 3
   },
   "file_extension": ".py",
   "mimetype": "text/x-python",
   "name": "python",
   "nbconvert_exporter": "python",
   "pygments_lexer": "ipython3",
   "version": "3.11.5"
  }
 },
 "nbformat": 4,
 "nbformat_minor": 5
}
