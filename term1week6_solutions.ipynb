{
 "cells": [
  {
   "cell_type": "code",
   "execution_count": 1,
   "metadata": {},
   "outputs": [
    {
     "name": "stdout",
     "output_type": "stream",
     "text": [
      "Autograder loaded successfully!\n",
      "Remember to always restart and run all from the Kernel menu before submitting!\n"
     ]
    }
   ],
   "source": [
    "from autograder_term1week6 import *\n",
    "_globals = globals()"
   ]
  },
  {
   "cell_type": "markdown",
   "metadata": {
    "nbgrader": {
     "grade": false,
     "grade_id": "cell-08705352561fd721",
     "locked": true,
     "schema_version": 3,
     "solution": false,
     "task": false
    }
   },
   "source": [
    "# <center> Introduction to Mathematical Computing </center>\n",
    "### <center> Phil Ramsden </center>\n",
    "\n",
    "# <center> Worksheet 2: Data types and data structures </center>\n",
    "\n",
    "**NOTE:** When answering a question, remember to remove the `raise NotImplementedError()` line.\n",
    "\n",
    "Don't forget: online Python documentation is at <a href='https://docs.python.org'>docs.python.org</a> and <a href='https://www.w3schools.com/python/'>www.w3schools.com/python/</a>."
   ]
  },
  {
   "cell_type": "markdown",
   "metadata": {
    "nbgrader": {
     "grade": false,
     "grade_id": "cell-9ab16363033e2302",
     "locked": true,
     "schema_version": 3,
     "solution": false,
     "task": false
    }
   },
   "source": [
    "## Question 0: don't miss this bit!\n",
    "\n",
    "In the file called `my_username.txt`, type your <b>short-form College user name</b> (this will usually be one or more letters followed by three or more figures, such as qk4019). Don't use quote marks. Then save the file."
   ]
  },
  {
   "cell_type": "code",
   "execution_count": 2,
   "metadata": {
    "nbgrader": {
     "grade": true,
     "grade_id": "cell-868cf04772d4f7d4",
     "locked": true,
     "points": 5,
     "schema_version": 3,
     "solution": false,
     "task": false
    }
   },
   "outputs": [
    {
     "name": "stdout",
     "output_type": "stream",
     "text": [
      "You've changed the contents of the file; thank you!\n",
      "Your username has been recognised; thank you!\n",
      "\n",
      "5 out of 5 marks\n"
     ]
    },
    {
     "data": {
      "text/plain": [
       "5"
      ]
     },
     "execution_count": 2,
     "metadata": {},
     "output_type": "execute_result"
    }
   ],
   "source": [
    "# 5 Marks\n",
    "# Do not try to delete this cell\n",
    "# Run this cell for grading of Question 0\n",
    "_globals = globals()\n",
    "question0(_globals)"
   ]
  },
  {
   "cell_type": "markdown",
   "metadata": {
    "nbgrader": {
     "grade": false,
     "grade_id": "cell-03d0b1d10842dd6e",
     "locked": true,
     "schema_version": 3,
     "solution": false,
     "task": false
    }
   },
   "source": [
    "## Question 1(i)\n",
    "\n",
    "(a) Define ints <code>int1</code>, <code>int2</code> and <code>int3</code> equal to, respectively, 123, 456 and 789."
   ]
  },
  {
   "cell_type": "code",
   "execution_count": 3,
   "metadata": {
    "nbgrader": {
     "grade": false,
     "grade_id": "cell-f6b69f6c0f33441a",
     "locked": false,
     "schema_version": 3,
     "solution": true,
     "task": false
    }
   },
   "outputs": [
    {
     "ename": "SyntaxError",
     "evalue": "invalid syntax (1540150657.py, line 1)",
     "output_type": "error",
     "traceback": [
      "\u001b[1;36m  Cell \u001b[1;32mIn[3], line 1\u001b[1;36m\u001b[0m\n\u001b[1;33m    int1 = # (delete, and insert value here)\u001b[0m\n\u001b[1;37m           ^\u001b[0m\n\u001b[1;31mSyntaxError\u001b[0m\u001b[1;31m:\u001b[0m invalid syntax\n"
     ]
    }
   ],
   "source": [
    "int1 = # (delete, and insert value here)\n",
    "int2 = # (delete, and insert value here)\n",
    "int3 = # (delete, and insert value here)\n",
    "### BEGIN SOLUTION \n",
    "int1 = 123\n",
    "int2 = 456\n",
    "int3 = 789\n",
    "### END SOLUTION"
   ]
  },
  {
   "cell_type": "code",
   "execution_count": null,
   "metadata": {
    "nbgrader": {
     "grade": true,
     "grade_id": "cell-54797219db211091",
     "locked": true,
     "points": 3,
     "schema_version": 3,
     "solution": false,
     "task": false
    }
   },
   "outputs": [],
   "source": [
    "# 3 Marks\n",
    "# Do not try to delete this cell\n",
    "# Run this cell for grading\n",
    "_globals = globals()\n",
    "question1_i_a(_globals)# 3 Marks\n"
   ]
  },
  {
   "cell_type": "markdown",
   "metadata": {
    "nbgrader": {
     "grade": false,
     "grade_id": "cell-cdddae7e3789b0ab",
     "locked": true,
     "schema_version": 3,
     "solution": false,
     "task": false
    }
   },
   "source": [
    "(b) Define <b>floats</b> <code>float1</code>, <code>float2</code> and <code>float3</code> with the same numerical values as <code>int1</code>, <code>int2</code> and <code>int3</code>, respectively."
   ]
  },
  {
   "cell_type": "code",
   "execution_count": null,
   "metadata": {
    "nbgrader": {
     "grade": false,
     "grade_id": "cell-b54f78cd269916a2",
     "locked": false,
     "schema_version": 3,
     "solution": true,
     "task": false
    }
   },
   "outputs": [],
   "source": [
    "float1 = # (delete, and insert value here)\n",
    "float2 = # (delete, and insert value here)\n",
    "float3 = # (delete, and insert value here)\n",
    "### BEGIN SOLUTION \n",
    "float1 = 123.0\n",
    "float2 = 456.0\n",
    "float3 = 789.0\n",
    "### END SOLUTION"
   ]
  },
  {
   "cell_type": "code",
   "execution_count": null,
   "metadata": {
    "nbgrader": {
     "grade": true,
     "grade_id": "cell-0ebff7f8b80df518",
     "locked": true,
     "points": 3,
     "schema_version": 3,
     "solution": false,
     "task": false
    }
   },
   "outputs": [],
   "source": [
    "# 3 Marks\n",
    "# Do not try to delete this cell\n",
    "# Run this cell for grading\n",
    "_globals = globals()\n",
    "question1_i_b(_globals)"
   ]
  },
  {
   "cell_type": "markdown",
   "metadata": {
    "nbgrader": {
     "grade": false,
     "grade_id": "cell-9e4a3cb954c1db8c",
     "locked": true,
     "schema_version": 3,
     "solution": false,
     "task": false
    }
   },
   "source": [
    "(c) By experimenting with your six variables, answer the following multiple-choice question.\n",
    "\n",
    "If <code>x</code> is an int, and <code>y</code> is a float with the same numerical value, then \n",
    "\n",
    "<ol>\n",
    "    <li>the command <code>x == y</code> returns <code>True</code>, and <code>type(x)</code> and <code>type(y)</code> have the same value;</li>\n",
    "    <li>the command <code>x == y</code> returns <code>False</code>, and <code>type(x)</code> and <code>type(y)</code> have different values;</li>\n",
    "    <li>the command <code>x == y</code> returns <code>True</code>, but <code>type(x)</code> and <code>type(y)</code> have different values;</li>\n",
    "    <li>the command <code>x == y</code> returns <code>False</code>, but <code>type(x)</code> and <code>type(y)</code> have the same value.</li>\n",
    "</ol>\n",
    "\n",
    "Fill in the correct numerical value, 1, 2, 3 or 4, below."
   ]
  },
  {
   "cell_type": "code",
   "execution_count": null,
   "metadata": {
    "nbgrader": {
     "grade": false,
     "grade_id": "cell-e5759f3ce7494418",
     "locked": false,
     "schema_version": 3,
     "solution": true,
     "task": false
    }
   },
   "outputs": [],
   "source": [
    "question1ic_answer = # (delete, and fill in the value 1, 2, 3 or 4)\n",
    "### BEGIN SOLUTION\n",
    "question1ic_answer = 3\n",
    "### END SOLUTION"
   ]
  },
  {
   "cell_type": "code",
   "execution_count": null,
   "metadata": {
    "nbgrader": {
     "grade": true,
     "grade_id": "cell-4ac01a582155b515",
     "locked": true,
     "points": 1,
     "schema_version": 3,
     "solution": false,
     "task": false
    }
   },
   "outputs": [],
   "source": [
    "# 1 Mark\n",
    "assert(question1ic_answer == question1_i_c())\n",
    "print('test case passed!')"
   ]
  },
  {
   "cell_type": "markdown",
   "metadata": {
    "nbgrader": {
     "grade": false,
     "grade_id": "cell-3bdbe7f4d8104d5c",
     "locked": true,
     "schema_version": 3,
     "solution": false,
     "task": false
    }
   },
   "source": [
    "(d) By experimenting with adding, subtracting, multiplying and dividing your variables, answer the following multiple-choice question.\n",
    "\n",
    "If we add, subtract, multiply or divide an int and a float, the result is\n",
    "\n",
    "<ol>\n",
    "    <li>always an int;</li>\n",
    "    <li>always a float;</li>\n",
    "    <li>an int or a float, depending on the operation we choose;</li>\n",
    "    <li>an int or a float, depending on whether the int or the float comes first in the expression.</li>\n",
    "</ol>\n",
    "\n",
    "Fill in the correct numerical value, 1, 2, 3 or 4, below."
   ]
  },
  {
   "cell_type": "code",
   "execution_count": null,
   "metadata": {
    "nbgrader": {
     "grade": false,
     "grade_id": "cell-5479e40c5e2b9e62",
     "locked": false,
     "schema_version": 3,
     "solution": true,
     "task": false
    }
   },
   "outputs": [],
   "source": [
    "question1id_answer = # (delete, and fill in the value 1, 2, 3 or 4)\n",
    "### BEGIN SOLUTION\n",
    "question1id_answer = 2\n",
    "### END SOLUTION"
   ]
  },
  {
   "cell_type": "code",
   "execution_count": null,
   "metadata": {
    "nbgrader": {
     "grade": true,
     "grade_id": "cell-33e61bed96005469",
     "locked": true,
     "points": 1,
     "schema_version": 3,
     "solution": false,
     "task": false
    }
   },
   "outputs": [],
   "source": [
    "# 1 Mark\n",
    "assert(question1id_answer == question1_i_d())\n",
    "print('test case passed!')"
   ]
  },
  {
   "cell_type": "markdown",
   "metadata": {
    "nbgrader": {
     "grade": false,
     "grade_id": "cell-36b4414b241f8c68",
     "locked": true,
     "schema_version": 3,
     "solution": false,
     "task": false
    }
   },
   "source": [
    "(e) By experimenting with raising one of your variables to the power of another, choose the true statement from the following:\n",
    "\n",
    "<ol>\n",
    "    <li>Large ints are represented as exact quantities in Python, no matter how many digits they have.</li>\n",
    "    <li>Ints above a certain size have to be represented in the form $a\\times10^r$, but if they're very large, there's an overflow error.</li>\n",
    "    <li>Ints above a certain size have to be represented in the form $a\\times10^r$, with no danger of an overflow error.</li>\n",
    "</ol>\n",
    "\n",
    "Fill in the correct numerical value, 1, 2 or 3, below."
   ]
  },
  {
   "cell_type": "code",
   "execution_count": null,
   "metadata": {
    "nbgrader": {
     "grade": false,
     "grade_id": "cell-c07c6f59097c20c6",
     "locked": false,
     "schema_version": 3,
     "solution": true,
     "task": false
    }
   },
   "outputs": [],
   "source": [
    "question1ie_answer = # (delete, and fill in the value 1, 2 or 3)\n",
    "### BEGIN SOLUTION\n",
    "question1ie_answer = 1\n",
    "### END SOLUTION"
   ]
  },
  {
   "cell_type": "code",
   "execution_count": null,
   "metadata": {
    "nbgrader": {
     "grade": true,
     "grade_id": "cell-8bc067badf04cc2c",
     "locked": true,
     "points": 1,
     "schema_version": 3,
     "solution": false,
     "task": false
    }
   },
   "outputs": [],
   "source": [
    "# 1 Mark\n",
    "assert(question1ie_answer == question1_i_e())\n",
    "print('test case passed!')"
   ]
  },
  {
   "cell_type": "markdown",
   "metadata": {
    "nbgrader": {
     "grade": false,
     "grade_id": "cell-b6602575afe71f0d",
     "locked": true,
     "schema_version": 3,
     "solution": false,
     "task": false
    }
   },
   "source": [
    "(f) By experimenting with raising one of your variables to the power of another, choose the true statement from the following:\n",
    "\n",
    "<ol>\n",
    "    <li>Large floats are represented as exact quantities in Python, no matter how many digits they have.</li>\n",
    "    <li>Floats above a certain size have to be represented in the form $a\\times10^r$, but if they're very large, there's an overflow error.</li>\n",
    "    <li>Floats above a certain size have to be represented in the form $a\\times10^r$, with no danger of an overflow error.</li>\n",
    "</ol>\n",
    "\n",
    "Fill in the correct numerical value, 1, 2 or 3, below."
   ]
  },
  {
   "cell_type": "code",
   "execution_count": null,
   "metadata": {
    "nbgrader": {
     "grade": false,
     "grade_id": "cell-de4b5e500d5a3858",
     "locked": false,
     "schema_version": 3,
     "solution": true,
     "task": false
    }
   },
   "outputs": [],
   "source": [
    "question1if_answer = # (delete, and fill in the value 1, 2 or 3)\n",
    "### BEGIN SOLUTION\n",
    "question1if_answer = 2\n",
    "### END SOLUTION"
   ]
  },
  {
   "cell_type": "code",
   "execution_count": null,
   "metadata": {
    "nbgrader": {
     "grade": true,
     "grade_id": "cell-fb8aa4e27ae298fb",
     "locked": true,
     "points": 1,
     "schema_version": 3,
     "solution": false,
     "task": false
    }
   },
   "outputs": [],
   "source": [
    "# 1 Mark\n",
    "assert(question1if_answer == question1_i_f())\n",
    "print('test case passed!')"
   ]
  },
  {
   "cell_type": "markdown",
   "metadata": {
    "nbgrader": {
     "grade": false,
     "grade_id": "cell-db6beeee9158a3fb",
     "locked": true,
     "schema_version": 3,
     "solution": false,
     "task": false
    }
   },
   "source": [
    "(g) Import the <code>math</code> module, and experiment with mathematical functions of ints and floats. Answer the following question.\n",
    "\n",
    "The sine, cosine, exponential and logarithmic functions in the <code>math</code> module:\n",
    "\n",
    "<ol>\n",
    "    <li>all return an int if the argument is an int, and a float if the argument is a float;</li>\n",
    "    <li>all always return an int;</li>\n",
    "    <li>all always return a float;</li>\n",
    "    <li>behave differently from one another.</li>\n",
    "</ol>\n",
    "\n",
    "Fill in the correct numerical value, 1, 2, 3 or 4, below."
   ]
  },
  {
   "cell_type": "code",
   "execution_count": null,
   "metadata": {
    "nbgrader": {
     "grade": false,
     "grade_id": "cell-a63c3f2e5f3a1b41",
     "locked": false,
     "schema_version": 3,
     "solution": true,
     "task": false
    }
   },
   "outputs": [],
   "source": [
    "question1ig_answer = # (delete, and fill in the value 1, 2 or 3)\n",
    "### BEGIN SOLUTION\n",
    "question1ig_answer = 3\n",
    "### END SOLUTION"
   ]
  },
  {
   "cell_type": "code",
   "execution_count": null,
   "metadata": {
    "nbgrader": {
     "grade": true,
     "grade_id": "cell-f6f2200d21835569",
     "locked": true,
     "points": 1,
     "schema_version": 3,
     "solution": false,
     "task": false
    }
   },
   "outputs": [],
   "source": [
    "# 1 Mark\n",
    "assert(question1ig_answer == question1_i_g())\n",
    "print('test case passed!')"
   ]
  },
  {
   "cell_type": "markdown",
   "metadata": {
    "nbgrader": {
     "grade": false,
     "grade_id": "cell-69c24b6a8b223b3d",
     "locked": true,
     "schema_version": 3,
     "solution": false,
     "task": false
    }
   },
   "source": [
    "(h) Execute the following code:"
   ]
  },
  {
   "cell_type": "code",
   "execution_count": 18,
   "metadata": {
    "nbgrader": {
     "grade": false,
     "grade_id": "cell-e6c0d80c91ec2509",
     "locked": true,
     "schema_version": 3,
     "solution": false,
     "task": false
    }
   },
   "outputs": [
    {
     "name": "stdout",
     "output_type": "stream",
     "text": [
      "1e-08\n",
      "1e-07\n",
      "1e-06\n",
      "9.999999999999999e-06\n",
      "9.999999999999999e-05\n"
     ]
    }
   ],
   "source": [
    "x = 1e-8\n",
    "print(x)\n",
    "\n",
    "x = 10*x\n",
    "print(x)\n",
    "\n",
    "x = 10*x\n",
    "print(x)\n",
    "\n",
    "x = 10*x\n",
    "print(x)\n",
    "\n",
    "x = 10*x\n",
    "print(x)"
   ]
  },
  {
   "cell_type": "markdown",
   "metadata": {
    "nbgrader": {
     "grade": false,
     "grade_id": "cell-fce5d31734e078c3",
     "locked": true,
     "schema_version": 3,
     "solution": false,
     "task": false
    }
   },
   "source": [
    "What explains what you've just seen?\n",
    "\n",
    "<ol>\n",
    "    <li>Multiplying a float by an int can introduce an error that wasn't there before.</li>\n",
    "    <li>The number <code>1e-8</code> has an inherent error because it can't be represented precisely in binary.</li>\n",
    "    <li>The number <code>1e-8</code> has an inherent error because this form of representing numbers, in terms of a power of ten, is always imprecise.</li>\n",
    "    <li>The number <code>1e-8</code> has an inherent error because numbers this close to zero can't be represented precisely.</li>\n",
    "</ol>\n",
    "\n",
    "To help you arrive at an answer, you may like to try the following:"
   ]
  },
  {
   "cell_type": "code",
   "execution_count": 9,
   "metadata": {
    "nbgrader": {
     "grade": false,
     "grade_id": "cell-f1a26a70ccb2ca82",
     "locked": true,
     "schema_version": 3,
     "solution": false,
     "task": false
    }
   },
   "outputs": [
    {
     "name": "stdout",
     "output_type": "stream",
     "text": [
      "7.450580596923828e-09\n",
      "7.450580596923828e-08\n",
      "7.450580596923828e-07\n",
      "7.450580596923828e-06\n",
      "7.450580596923828e-05\n",
      "0.0007450580596923828\n",
      "0.007450580596923828\n",
      "0.07450580596923828\n"
     ]
    }
   ],
   "source": [
    "x = 1/8**9\n",
    "print(x)\n",
    "\n",
    "x = 10*x\n",
    "print(x)\n",
    "\n",
    "x = 10*x\n",
    "print(x)\n",
    "\n",
    "x = 10*x\n",
    "print(x)\n",
    "\n",
    "x = 10*x\n",
    "print(x)\n",
    "\n",
    "x = 10*x\n",
    "print(x)\n",
    "\n",
    "x = 10*x\n",
    "print(x)\n",
    "\n",
    "x = 10*x\n",
    "print(x)"
   ]
  },
  {
   "cell_type": "markdown",
   "metadata": {
    "nbgrader": {
     "grade": false,
     "grade_id": "cell-2ce7fd465e79315e",
     "locked": true,
     "schema_version": 3,
     "solution": false,
     "task": false
    }
   },
   "source": [
    "Fill in the correct numerical value, 1, 2, 3 or 4, below."
   ]
  },
  {
   "cell_type": "code",
   "execution_count": null,
   "metadata": {
    "nbgrader": {
     "grade": false,
     "grade_id": "cell-6c67f843ad59c167",
     "locked": false,
     "schema_version": 3,
     "solution": true,
     "task": false
    }
   },
   "outputs": [],
   "source": [
    "question1ih_answer = # (delete, and fill in the value 1, 2, 3 or 4)\n",
    "### BEGIN SOLUTION\n",
    "question1ih_answer = 2\n",
    "### END SOLUTION"
   ]
  },
  {
   "cell_type": "code",
   "execution_count": null,
   "metadata": {
    "nbgrader": {
     "grade": true,
     "grade_id": "cell-53e2d14dff895dc6",
     "locked": true,
     "points": 1,
     "schema_version": 3,
     "solution": false,
     "task": false
    }
   },
   "outputs": [],
   "source": [
    "# 1 Mark\n",
    "assert(question1ih_answer == question1_i_h())\n",
    "print('test case passed!')"
   ]
  },
  {
   "cell_type": "markdown",
   "metadata": {
    "nbgrader": {
     "grade": false,
     "grade_id": "cell-ffc11169ded6fd3b",
     "locked": true,
     "schema_version": 3,
     "solution": false,
     "task": false
    }
   },
   "source": [
    "## Question 1(ii)\n",
    "\n",
    "(a) Define the complex numbers <code>complex1</code>, <code>complex2</code> and <code>complex3</code> with the same numerical values as, respectively, <code>int1</code>, <code>int2</code> and <code>int3</code>.\n",
    "\n",
    "Using the <code>complex</code> constructor function, define <code>complex4</code>, using <code>int1</code> and <code>int2</code> as real and imaginary part, and <code>complex5</code>, using <code>float1</code> and <code>float2</code> as real and imaginary part,"
   ]
  },
  {
   "cell_type": "code",
   "execution_count": null,
   "metadata": {
    "nbgrader": {
     "grade": false,
     "grade_id": "cell-ea86d15e54090326",
     "locked": false,
     "schema_version": 3,
     "solution": true,
     "task": false
    }
   },
   "outputs": [],
   "source": [
    "complex1 = # (delete, and insert value here)\n",
    "complex2 = # (delete, and insert value here)\n",
    "complex3 = # (delete, and insert value here)\n",
    "complex4 = # (delete, and insert value here)\n",
    "complex5 = # (delete, and insert value here)\n",
    "### BEGIN SOLUTION\n",
    "complex1 = 123 + 0j\n",
    "complex2 = 456 + 0j\n",
    "complex3 = 789 + 0j\n",
    "complex4 = complex(int1,int2)\n",
    "complex5 = complex(float1,float2)\n",
    "### END SOLUTION"
   ]
  },
  {
   "cell_type": "code",
   "execution_count": null,
   "metadata": {
    "nbgrader": {
     "grade": true,
     "grade_id": "cell-d7d5868f5f17ec70",
     "locked": true,
     "points": 10,
     "schema_version": 3,
     "solution": false,
     "task": false
    }
   },
   "outputs": [],
   "source": [
    "# 10 Marks\n",
    "# Do not try to delete this cell\n",
    "# Run this cell for grading\n",
    "_globals = globals()\n",
    "question1_ii_a(_globals)"
   ]
  },
  {
   "cell_type": "markdown",
   "metadata": {
    "nbgrader": {
     "grade": false,
     "grade_id": "cell-3dd6f118eed48a6e",
     "locked": true,
     "schema_version": 3,
     "solution": false,
     "task": false
    }
   },
   "source": [
    "(b) By experimenting, answer the following multiple-choice question.\n",
    "\n",
    "If <code>x</code> is an int, and <code>z</code> is a complex with the same numerical value, then \n",
    "\n",
    "<ol>\n",
    "    <li>the command <code>x == z</code> returns <code>True</code>, and <code>type(x)</code> and <code>type(z)</code> have the same value;</li>\n",
    "    <li>the command <code>x == z</code> returns <code>False</code>, and <code>type(x)</code> and <code>type(z)</code> have different values;</li>\n",
    "    <li>the command <code>x == z</code> returns <code>True</code>, but <code>type(x)</code> and <code>type(z)</code> have different values;</li>\n",
    "    <li>the command <code>x == z</code> returns <code>False</code>, but <code>type(x)</code> and <code>type(z)</code> have the same value.</li>\n",
    "</ol>\n",
    "\n",
    "Fill in the correct numerical value, 1, 2, 3 or 4, below."
   ]
  },
  {
   "cell_type": "code",
   "execution_count": null,
   "metadata": {
    "nbgrader": {
     "grade": false,
     "grade_id": "cell-0b6aca3c14ba42ba",
     "locked": false,
     "schema_version": 3,
     "solution": true,
     "task": false
    }
   },
   "outputs": [],
   "source": [
    "question1iib_answer = # (delete, and fill in the value 1, 2, 3 or 4)\n",
    "### BEGIN SOLUTION\n",
    "question1iib_answer = 3\n",
    "### END SOLUTION"
   ]
  },
  {
   "cell_type": "code",
   "execution_count": null,
   "metadata": {
    "nbgrader": {
     "grade": true,
     "grade_id": "cell-cee4552ab0535602",
     "locked": true,
     "points": 1,
     "schema_version": 3,
     "solution": false,
     "task": false
    }
   },
   "outputs": [],
   "source": [
    "# 1 Mark\n",
    "assert(question1iib_answer == question1_ii_b())\n",
    "print('test case passed!')"
   ]
  },
  {
   "cell_type": "markdown",
   "metadata": {
    "nbgrader": {
     "grade": false,
     "grade_id": "cell-b7ba90142fd16815",
     "locked": true,
     "schema_version": 3,
     "solution": false,
     "task": false
    }
   },
   "source": [
    "(c) By experimenting, answer the following multiple-choice question.\n",
    "\n",
    "If <code>y</code> is a float, and <code>z</code> is a complex with the same numerical value, then \n",
    "\n",
    "<ol>\n",
    "    <li>the command <code>y == z</code> returns <code>True</code>, and <code>type(y)</code> and <code>type(z)</code> have the same value;</li>\n",
    "    <li>the command <code>y == z</code> returns <code>False</code>, and <code>type(y)</code> and <code>type(z)</code> have different values;</li>\n",
    "    <li>the command <code>y == z</code> returns <code>True</code>, but <code>type(y)</code> and <code>type(z)</code> have different values;</li>\n",
    "    <li>the command <code>y == z</code> returns <code>False</code>, but <code>type(y)</code> and <code>type(z)</code> have the same value.</li>\n",
    "</ol>\n",
    "\n",
    "Fill in the correct numerical value, 1, 2, 3 or 4, below."
   ]
  },
  {
   "cell_type": "code",
   "execution_count": null,
   "metadata": {
    "nbgrader": {
     "grade": false,
     "grade_id": "cell-851a99484184f3d8",
     "locked": false,
     "schema_version": 3,
     "solution": true,
     "task": false
    }
   },
   "outputs": [],
   "source": [
    "question1iic_answer = # (delete, and fill in the value 1, 2, 3 or 4)\n",
    "### BEGIN SOLUTION\n",
    "question1iic_answer = 3\n",
    "### END SOLUTION"
   ]
  },
  {
   "cell_type": "code",
   "execution_count": null,
   "metadata": {
    "nbgrader": {
     "grade": true,
     "grade_id": "cell-cb59d57abf447995",
     "locked": true,
     "points": 1,
     "schema_version": 3,
     "solution": false,
     "task": false
    }
   },
   "outputs": [],
   "source": [
    "# 1 Mark\n",
    "assert(question1iic_answer == question1_ii_c())\n",
    "print('test case passed!')"
   ]
  },
  {
   "cell_type": "markdown",
   "metadata": {
    "nbgrader": {
     "grade": false,
     "grade_id": "cell-0097d8e066317086",
     "locked": true,
     "schema_version": 3,
     "solution": false,
     "task": false
    }
   },
   "source": [
    "(d) By experimenting, answer the following multiple-choice question.\n",
    "\n",
    "If we add, subtract, multiply or divide an int and a complex, the result is\n",
    "\n",
    "<ol>\n",
    "    <li>always an int;</li>\n",
    "    <li>always a complex;</li>\n",
    "    <li>an int or a complex, depending on the operation we choose;</li>\n",
    "    <li>an int or a complex, depending on whether the int or the complex comes first in the expression.</li>\n",
    "</ol>\n",
    "\n",
    "Fill in the correct numerical value, 1, 2, 3 or 4, below.\n",
    "\n"
   ]
  },
  {
   "cell_type": "code",
   "execution_count": null,
   "metadata": {
    "nbgrader": {
     "grade": false,
     "grade_id": "cell-21c341b2ccad6e5c",
     "locked": false,
     "schema_version": 3,
     "solution": true,
     "task": false
    }
   },
   "outputs": [],
   "source": [
    "question1iid_answer = # (delete, and fill in the value 1, 2, 3 or 4)\n",
    "### BEGIN SOLUTION\n",
    "question1iid_answer = 2\n",
    "### END SOLUTION"
   ]
  },
  {
   "cell_type": "code",
   "execution_count": null,
   "metadata": {
    "nbgrader": {
     "grade": true,
     "grade_id": "cell-4aa901bc8a543643",
     "locked": true,
     "points": 1,
     "schema_version": 3,
     "solution": false,
     "task": false
    }
   },
   "outputs": [],
   "source": [
    "# 1 Mark\n",
    "assert(question1iid_answer == question1_ii_d())\n",
    "print('test case passed!')"
   ]
  },
  {
   "cell_type": "markdown",
   "metadata": {
    "nbgrader": {
     "grade": false,
     "grade_id": "cell-af0862fd096cb8a8",
     "locked": true,
     "schema_version": 3,
     "solution": false,
     "task": false
    }
   },
   "source": [
    "(e) By experimenting, answer the following multiple-choice question.\n",
    "\n",
    "If we add, subtract, multiply or divide a float and a complex, the result is\n",
    "\n",
    "<ol>\n",
    "    <li>always a float;</li>\n",
    "    <li>always a complex;</li>\n",
    "    <li>a float or a complex, depending on the operation we choose;</li>\n",
    "    <li>a float or a complex, depending on whether the float or the complex comes first in the expression.</li>\n",
    "</ol>\n",
    "\n",
    "Fill in the correct numerical value, 1, 2, 3 or 4, below."
   ]
  },
  {
   "cell_type": "code",
   "execution_count": null,
   "metadata": {
    "nbgrader": {
     "grade": false,
     "grade_id": "cell-020ae20e70e4982a",
     "locked": false,
     "schema_version": 3,
     "solution": true,
     "task": false
    }
   },
   "outputs": [],
   "source": [
    "question1iie_answer = # (delete, and fill in the value 1, 2, 3 or 4)\n",
    "### BEGIN SOLUTION\n",
    "question1iie_answer = 2\n",
    "### END SOLUTION"
   ]
  },
  {
   "cell_type": "code",
   "execution_count": null,
   "metadata": {
    "nbgrader": {
     "grade": true,
     "grade_id": "cell-284978c168e50d93",
     "locked": true,
     "points": 1,
     "schema_version": 3,
     "solution": false,
     "task": false
    }
   },
   "outputs": [],
   "source": [
    "# 1 Mark\n",
    "assert(question1iie_answer == question1_ii_e())\n",
    "print('test case passed!')"
   ]
  },
  {
   "cell_type": "markdown",
   "metadata": {
    "nbgrader": {
     "grade": false,
     "grade_id": "cell-cd893683eee56fca",
     "locked": true,
     "schema_version": 3,
     "solution": false,
     "task": false
    }
   },
   "source": [
    "(f) By experimenting with commands like\n",
    "\n",
    "```python\n",
    "complex1.real\n",
    "```\n",
    "\n",
    "and\n",
    "\n",
    "```python\n",
    "complex1.imag\n",
    "```\n",
    "\n",
    "answer the following multiple choice question.\n",
    "\n",
    "The real and imaginary parts of a complex are\n",
    "\n",
    "<ol>\n",
    "    <li>always ints;</li>\n",
    "    <li>always floats;</li>    \n",
    "    <li>sometimes ints and sometimes floats.</li>\n",
    "</ol>\n",
    "\n",
    "Fill in the correct numerical value, 1, 2 or 3, below."
   ]
  },
  {
   "cell_type": "code",
   "execution_count": null,
   "metadata": {
    "nbgrader": {
     "grade": false,
     "grade_id": "cell-647289a9bef34648",
     "locked": false,
     "schema_version": 3,
     "solution": true,
     "task": false
    }
   },
   "outputs": [],
   "source": [
    "question1iif_answer = # (delete, and fill in the value 1, 2 or 3)\n",
    "### BEGIN SOLUTION\n",
    "question1iif_answer = 2\n",
    "### END SOLUTION"
   ]
  },
  {
   "cell_type": "code",
   "execution_count": null,
   "metadata": {
    "nbgrader": {
     "grade": true,
     "grade_id": "cell-06ca8da159c442f9",
     "locked": true,
     "points": 1,
     "schema_version": 3,
     "solution": false,
     "task": false
    }
   },
   "outputs": [],
   "source": [
    "# 1 Mark\n",
    "assert(question1iif_answer == question1_ii_f())\n",
    "print('test case passed!')"
   ]
  },
  {
   "cell_type": "markdown",
   "metadata": {
    "nbgrader": {
     "grade": false,
     "grade_id": "cell-58983d8f22127d2b",
     "locked": true,
     "schema_version": 3,
     "solution": false,
     "task": false
    }
   },
   "source": [
    "(g) Experiment with doing arithmetic with `True` and `False`, via code like\n",
    "```python\n",
    "2 + True\n",
    "5 * False\n",
    "7 ** False\n",
    "exp(True)\n",
    "```\n",
    "\n",
    "Which of the following statements is true?\n",
    "\n",
    "<ol>\n",
    "    <li>It is not possible to do arithmetic with Boolean data;</li>\n",
    "    <li>It is possible to do arithmetic with Boolean data, and <code>False</code> and <code>True</code> are treated like <code>0</code> and <code>1</code> respectively;</li>\n",
    "    <li>It is possible to do arithmetic with Boolean data, and <code>False</code> and <code>True</code> are treated like <code>-1</code> and <code>1</code> respectively.</li>\n",
    "</ol>\n",
    "\n",
    "Fill in the correct numerical value, 1, 2 or 3, below."
   ]
  },
  {
   "cell_type": "code",
   "execution_count": null,
   "metadata": {
    "nbgrader": {
     "grade": false,
     "grade_id": "cell-83aa3cd1875fed96",
     "locked": false,
     "schema_version": 3,
     "solution": true,
     "task": false
    }
   },
   "outputs": [],
   "source": [
    "question1iig_answer = # (delete, and fill in the value 1, 2 or 3)\n",
    "### BEGIN SOLUTION\n",
    "question1iig_answer = 2\n",
    "### END SOLUTION"
   ]
  },
  {
   "cell_type": "code",
   "execution_count": null,
   "metadata": {
    "nbgrader": {
     "grade": true,
     "grade_id": "cell-26cf1638c93c2fb9",
     "locked": true,
     "points": 1,
     "schema_version": 3,
     "solution": false,
     "task": false
    }
   },
   "outputs": [],
   "source": [
    "# 1 Mark\n",
    "assert(question1iig_answer == question1_ii_g())\n",
    "print('test case passed!')"
   ]
  },
  {
   "cell_type": "markdown",
   "metadata": {
    "nbgrader": {
     "grade": false,
     "grade_id": "cell-64b450881b0656b2",
     "locked": true,
     "schema_version": 3,
     "solution": false,
     "task": false
    }
   },
   "source": [
    "(h) Investigate the `^` operator when used on Boolean data, via code such as\n",
    "```python\n",
    "True ^ False\n",
    "3<4 ^ 2==2\n",
    "``` \n",
    "and so on. Which of the following is true?\n",
    "\n",
    "<ol>\n",
    "    <li>For any Boolean expressions <code>p</code> and <code>q</code>, <code>p ^ q</code> is the same as <code>p or q</code>;</li>\n",
    "    <li>For any Boolean expressions <code>p</code> and <code>q</code>, <code>p ^ q</code> is the same as <code>p and q</code>;</li>\n",
    "    <li>For any Boolean expressions <code>p</code> and <code>q</code>, <code>p ^ q</code> is the same as <code>not (p or q)</code>;</li>\n",
    "    <li>For any Boolean expressions <code>p</code> and <code>q</code>, <code>p ^ q</code> is the same as <code>not (p and q)</code>;</li>\n",
    "    <li>For any Boolean expressions <code>p</code> and <code>q</code>, <code>p ^ q</code> is the same as <code>(p or q) and not (p and q)</code>.</li>\n",
    "</ol>\n",
    "\n",
    "Fill in the correct numerical value, 1, 2, 3, 4 or 5, below."
   ]
  },
  {
   "cell_type": "code",
   "execution_count": null,
   "metadata": {
    "nbgrader": {
     "grade": false,
     "grade_id": "cell-2ebab91f303381ef",
     "locked": false,
     "schema_version": 3,
     "solution": true,
     "task": false
    }
   },
   "outputs": [],
   "source": [
    "question1iih_answer = # (delete, and fill in the value 1, 2, 3, 4 or 5)\n",
    "### BEGIN SOLUTION\n",
    "question1iih_answer = 5\n",
    "### END SOLUTION"
   ]
  },
  {
   "cell_type": "code",
   "execution_count": null,
   "metadata": {
    "nbgrader": {
     "grade": true,
     "grade_id": "cell-7a82b8797fa34f56",
     "locked": true,
     "points": 1,
     "schema_version": 3,
     "solution": false,
     "task": false
    }
   },
   "outputs": [],
   "source": [
    "# 1 Mark\n",
    "assert(question1iih_answer == question1_ii_h())\n",
    "print('test case passed!')"
   ]
  },
  {
   "cell_type": "markdown",
   "metadata": {
    "nbgrader": {
     "grade": false,
     "grade_id": "cell-bced17510431f761",
     "locked": true,
     "schema_version": 3,
     "solution": false,
     "task": false
    }
   },
   "source": [
    "(i) Investigate the `^` operator when used with ints, via code such as\n",
    "```python\n",
    "4 ^ 5\n",
    "4 ^ 8\n",
    "```\n",
    "and so on. Write down a short description of what it does. (Autograding can't help here.)"
   ]
  },
  {
   "cell_type": "code",
   "execution_count": null,
   "metadata": {},
   "outputs": [],
   "source": [
    "# Write your solution here..."
   ]
  },
  {
   "cell_type": "markdown",
   "metadata": {
    "nbgrader": {
     "grade": false,
     "grade_id": "cell-db6e60221190327d",
     "locked": true,
     "schema_version": 3,
     "solution": false,
     "task": false
    }
   },
   "source": [
    "## Question 2(i)\n",
    "\n",
    "For the given string <code>string1</code>, calculate\n",
    "\n",
    "(a) A string containing all the characters of <code>string1</code> between the first and the 15th inclusive (that is, those with indexes between 0 and 14 inclusive).\n",
    "\n",
    "(b) A string containing the first, third, fifth characters, etc, of <code>string1</code>, up to the 15th, inclusive (that is, those with <em>even</em> indexes between 0 and 14 inclusive).\n",
    "\n",
    "(c) A version of <code>string1</code> entirely in upper case.\n",
    "\n",
    "(d) A single string consisting of three copies of <code>string1</code> one after the other. "
   ]
  },
  {
   "cell_type": "code",
   "execution_count": null,
   "metadata": {
    "nbgrader": {
     "grade": false,
     "grade_id": "cell-2d7d7363cf1d2a85",
     "locked": false,
     "schema_version": 3,
     "solution": true,
     "task": false
    }
   },
   "outputs": [],
   "source": [
    "string1 = 'The quick brown fox jumps over the lazy dog'\n",
    "\n",
    "q2ia_answer = string1[0:15]\n",
    "q2ib_answer = \n",
    "q2ic_answer = \n",
    "q2id_answer = \n",
    "print(q2ia_answer)\n",
    "print(q2ib_answer)\n",
    "print(q2ic_answer)\n",
    "print(q2id_answer)\n",
    "### BEGIN SOLUTION\n",
    "q2ia_answer = string1[0:15]\n",
    "q2ib_answer = string1[0:15:2]\n",
    "q2ic_answer = string1.upper()\n",
    "q2id_answer = 3*string1\n",
    "### END SOLUTION\n"
   ]
  },
  {
   "cell_type": "code",
   "execution_count": null,
   "metadata": {
    "nbgrader": {
     "grade": true,
     "grade_id": "cell-0708126b0ea18264",
     "locked": true,
     "points": 4,
     "schema_version": 3,
     "solution": false,
     "task": false
    }
   },
   "outputs": [],
   "source": [
    "# 4 Marks\n",
    "# Do not try to delete this cell\n",
    "# Run this cell for grading\n",
    "_globals = globals()\n",
    "question2_i(_globals)"
   ]
  },
  {
   "cell_type": "markdown",
   "metadata": {
    "nbgrader": {
     "grade": false,
     "grade_id": "cell-109abd18f8e5c3e3",
     "locked": true,
     "schema_version": 3,
     "solution": false,
     "task": false
    }
   },
   "source": [
    "## Question 2(ii)\n",
    "\n",
    "For the given list <code>list1</code>, calculate\n",
    "\n",
    "(a) A list containing all the elements of <code>list1</code> between the first and the 11th inclusive (that is, those with indexes between 0 and 10 inclusive).\n",
    "\n",
    "(b) A list containing the first, third, fifth elements, etc, of <code>list1</code>, up to the 11th, inclusive (that is, those with <em>even</em> indexes between 0 and 10 inclusive).\n",
    "\n",
    "(c) A single list consisting of three copies of <code>list1</code>, one after the other. "
   ]
  },
  {
   "cell_type": "code",
   "execution_count": null,
   "metadata": {
    "nbgrader": {
     "grade": false,
     "grade_id": "cell-4b61ddd6fa75232e",
     "locked": false,
     "schema_version": 3,
     "solution": true,
     "task": false
    }
   },
   "outputs": [],
   "source": [
    "list1 = [0+0j, 'one', 2, 3.0, 4+0j, 'five', 6, 7.0, 8+0j, 'nine', 10, 11.0, 12+0j, 'thirteen', 14, 15.0]\n",
    "\n",
    "q2iia_answer = \n",
    "q2iib_answer = \n",
    "q2iic_answer = \n",
    "print(q2iia_answer)\n",
    "print(q2iib_answer)\n",
    "print(q2iic_answer)\n",
    "### BEGIN SOLUTION\n",
    "q2iia_answer = list1[0:11]\n",
    "q2iib_answer = list1[0:11:2]\n",
    "q2iic_answer = 3*list1\n",
    "### END SOLUTION\n"
   ]
  },
  {
   "cell_type": "code",
   "execution_count": null,
   "metadata": {
    "nbgrader": {
     "grade": true,
     "grade_id": "cell-1b662e29550d694b",
     "locked": true,
     "points": 3,
     "schema_version": 3,
     "solution": false,
     "task": false
    }
   },
   "outputs": [],
   "source": [
    "# 3 Marks\n",
    "# Do not try to delete this cell\n",
    "# Run this cell for grading\n",
    "_globals = globals()\n",
    "question2_ii(_globals)"
   ]
  },
  {
   "cell_type": "markdown",
   "metadata": {
    "nbgrader": {
     "grade": false,
     "grade_id": "cell-03199112fac280b7",
     "locked": true,
     "schema_version": 3,
     "solution": false,
     "task": false
    }
   },
   "source": [
    "## Question 2(iii)\n",
    "\n",
    "For the given tuple <code>tuple1</code>, calculate\n",
    "\n",
    "(a) A tuple containing all the elements of <code>tuple1</code> between the first and the 11th inclusive.\n",
    "\n",
    "(b) A tuple containing the first, third, fifth elements, etc, of <code>tuple1</code>, up to the 11th, inclusive.\n",
    "\n",
    "(c) A single tuple consisting of three copies of <code>tuple1</code>, one after the other. "
   ]
  },
  {
   "cell_type": "code",
   "execution_count": null,
   "metadata": {
    "nbgrader": {
     "grade": false,
     "grade_id": "cell-b8aa41567b78e5e8",
     "locked": false,
     "schema_version": 3,
     "solution": true,
     "task": false
    }
   },
   "outputs": [],
   "source": [
    "tuple1 = (0+0j, 'one', 2, 3.0, 4+0j, 'five', 6, 7.0, 8+0j, 'nine', 10, 11.0, 12+0j, 'thirteen', 14, 15.0)\n",
    "\n",
    "q2iiia_answer = \n",
    "q2iiib_answer = \n",
    "q2iiic_answer = \n",
    "print(q2iiia_answer)\n",
    "print(q2iiib_answer)\n",
    "print(q2iiic_answer)\n",
    "### BEGIN SOLUTION\n",
    "q2iiia_answer = tuple1[0:11]\n",
    "q2iiib_answer = tuple1[0:11:2]\n",
    "q2iiic_answer = 3*tuple1\n",
    "### END SOLUTION\n"
   ]
  },
  {
   "cell_type": "code",
   "execution_count": null,
   "metadata": {
    "nbgrader": {
     "grade": true,
     "grade_id": "cell-e604802244cecd7a",
     "locked": true,
     "points": 3,
     "schema_version": 3,
     "solution": false,
     "task": false
    }
   },
   "outputs": [],
   "source": [
    "# 3 Marks\n",
    "# Do not try to delete this cell\n",
    "# Run this cell for grading\n",
    "_globals = globals()\n",
    "question2_iii(_globals)"
   ]
  },
  {
   "cell_type": "markdown",
   "metadata": {
    "nbgrader": {
     "grade": false,
     "grade_id": "cell-9dd49b4b210a1005",
     "locked": true,
     "schema_version": 3,
     "solution": false,
     "task": false
    }
   },
   "source": [
    "## Question 2(iv)\n",
    "\n",
    "(a) By means of a single use of the `extend` method (which you should look up; <a href='https://www.w3schools.com/python/'>www.w3schools.com/python/</a> is a good place), append the elements `16+0j`, `'seventeen'`, `18` and `19.0` to `list1`, so that the value of `list1` is now\n",
    "```python\n",
    "[0+0j, 'one', 2, 3.0, 4+0j, 'five', 6, 7.0, 8+0j, 'nine', 10, 11.0, 12+0j, 'thirteen', 14, 15.0, 16+0j, 'seventeen', 18, 19.0]\n",
    "```\n",
    "Autograding won't be able to tell whether you've used `extend`, and there are other ways of doing it, but please try to do so!"
   ]
  },
  {
   "cell_type": "code",
   "execution_count": null,
   "metadata": {
    "nbgrader": {
     "grade": false,
     "grade_id": "cell-8e4ccb1216d7534d",
     "locked": false,
     "schema_version": 3,
     "solution": true,
     "task": false
    }
   },
   "outputs": [],
   "source": [
    "print(list1)\n",
    "\n",
    "### BEGIN SOLUTION\n",
    "list1.extend([16+0j,'seventeen',18,19.0])\n",
    "### END SOLUTION"
   ]
  },
  {
   "cell_type": "code",
   "execution_count": null,
   "metadata": {
    "nbgrader": {
     "grade": true,
     "grade_id": "cell-d2633add38b13ebb",
     "locked": true,
     "points": 1,
     "schema_version": 3,
     "solution": false,
     "task": false
    }
   },
   "outputs": [],
   "source": [
    "# 1 Mark\n",
    "assert(list1 == question2_iv_a())\n",
    "print('test case passed!')"
   ]
  },
  {
   "cell_type": "markdown",
   "metadata": {
    "nbgrader": {
     "grade": false,
     "grade_id": "cell-2e6260e906f345f5",
     "locked": true,
     "schema_version": 3,
     "solution": false,
     "task": false
    }
   },
   "source": [
    "(b) Change the five strings in `list1` to `'uno'`, `'cinco'`, `'nueve'`, `'trece'` and `'diecisiete'` respectively. Try to do this with a <b>single command</b>."
   ]
  },
  {
   "cell_type": "code",
   "execution_count": null,
   "metadata": {
    "nbgrader": {
     "grade": false,
     "grade_id": "cell-6fd9bacae9d3f248",
     "locked": false,
     "schema_version": 3,
     "solution": true,
     "task": false
    }
   },
   "outputs": [],
   "source": [
    "print(list1)\n",
    "\n",
    "### BEGIN SOLUTION\n",
    "list1[1:18:4] = ['uno','cinco','nueve','trece','diecisiete']\n",
    "### END SOLUTION"
   ]
  },
  {
   "cell_type": "code",
   "execution_count": null,
   "metadata": {
    "nbgrader": {
     "grade": true,
     "grade_id": "cell-16f100ca6ae8e956",
     "locked": true,
     "points": 1,
     "schema_version": 3,
     "solution": false,
     "task": false
    }
   },
   "outputs": [],
   "source": [
    "# 1 Mark\n",
    "assert(list1 == question2_iv_b())\n",
    "print('test case passed!')"
   ]
  },
  {
   "cell_type": "markdown",
   "metadata": {
    "nbgrader": {
     "grade": false,
     "grade_id": "cell-9c37922b130f19e4",
     "locked": true,
     "schema_version": 3,
     "solution": false,
     "task": false
    }
   },
   "source": [
    "(c) Try to find a way to do the equivalent of part (a) with `tuple1`, so that `tuple1` becomes\n",
    "```python\n",
    "(0+0j, 'one', 2, 3.0, 4+0j, 'five', 6, 7.0, 8+0j, 'nine', 10, 11.0, 12+0j, 'thirteen', 14, 15.0, 16+0j, 'seventeen', 18, 19.0)\n",
    "```\n",
    "If you can, avoid simply typing out (or, worse, copying and pasting) all twenty elements!"
   ]
  },
  {
   "cell_type": "code",
   "execution_count": null,
   "metadata": {
    "nbgrader": {
     "grade": false,
     "grade_id": "cell-f35cddbe5f0f0eee",
     "locked": false,
     "schema_version": 3,
     "solution": true,
     "task": false
    }
   },
   "outputs": [],
   "source": [
    "print(tuple1)\n",
    "\n",
    "### BEGIN SOLUTION\n",
    "tuple1 = tuple1 + (16+0j,'seventeen',18,19.0)\n",
    "### END SOLUTION"
   ]
  },
  {
   "cell_type": "code",
   "execution_count": null,
   "metadata": {
    "nbgrader": {
     "grade": true,
     "grade_id": "cell-ecd565c6e8540ff4",
     "locked": true,
     "points": 1,
     "schema_version": 3,
     "solution": false,
     "task": false
    }
   },
   "outputs": [],
   "source": [
    "# 1 Mark\n",
    "assert(tuple1 == question2_iv_c())\n",
    "print('test case passed!')"
   ]
  },
  {
   "cell_type": "markdown",
   "metadata": {
    "nbgrader": {
     "grade": false,
     "grade_id": "cell-7b3591f43063bf9b",
     "locked": true,
     "schema_version": 3,
     "solution": false,
     "task": false
    }
   },
   "source": [
    "(d) Try to find a way to do the equivalent of part (b) with `tuple1`, so that `tuple1` becomes\n",
    "```python\n",
    "(0j, 'uno', 2, 3.0, (4+0j), 'cinco', 6, 7.0, (8+0j), 'nueve', 10, 11.0, (12+0j), 'trece', 14, 15.0, (16+0j), 'diecisiete', 18, 19.0)\n",
    "```\n",
    "Again, try to avoid simply typing out (or, worse, copying and pasting) all twenty elements; there's no terribly elegant way to do this question, sadly."
   ]
  },
  {
   "cell_type": "code",
   "execution_count": null,
   "metadata": {
    "nbgrader": {
     "grade": false,
     "grade_id": "cell-3b1228a905d86fbc",
     "locked": false,
     "schema_version": 3,
     "solution": true,
     "task": false
    }
   },
   "outputs": [],
   "source": [
    "print(tuple1)\n",
    "\n",
    "### BEGIN SOLUTION\n",
    "temp_list = list(tuple1)\n",
    "temp_list[1:18:4] = ['uno','cinco','nueve','trece','diecisiete']\n",
    "tuple1 = tuple(temp_list)\n",
    "### END SOLUTION"
   ]
  },
  {
   "cell_type": "code",
   "execution_count": null,
   "metadata": {
    "nbgrader": {
     "grade": true,
     "grade_id": "cell-bb186a18e242fcb4",
     "locked": true,
     "points": 1,
     "schema_version": 3,
     "solution": false,
     "task": false
    }
   },
   "outputs": [],
   "source": [
    "# 1 Mark\n",
    "assert(tuple1 == question2_iv_d())\n",
    "print('test case passed!')"
   ]
  },
  {
   "cell_type": "markdown",
   "metadata": {
    "nbgrader": {
     "grade": false,
     "grade_id": "cell-2d5be5c403896b0e",
     "locked": true,
     "schema_version": 3,
     "solution": false,
     "task": false
    }
   },
   "source": [
    "## Question 3\n",
    "\n",
    "(a) For the given string <code>string1</code>, use the <code>split</code> method to create a list <code>words1</code> consisting of all the words of <code>string1</code> in order."
   ]
  },
  {
   "cell_type": "code",
   "execution_count": null,
   "metadata": {
    "nbgrader": {
     "grade": false,
     "grade_id": "cell-77c4f8c0334919ba",
     "locked": false,
     "schema_version": 3,
     "solution": true,
     "task": false
    }
   },
   "outputs": [],
   "source": [
    "string1 = \"The quick brown fox jumps over the lazy dog\"\n",
    "\n",
    "words1 = # (delete, and fill in your code)\n",
    "\n",
    "print(words1)\n",
    "\n",
    "### BEGIN SOLUTION\n",
    "words1 = string1.split()\n",
    "### END SOLUTION"
   ]
  },
  {
   "cell_type": "code",
   "execution_count": null,
   "metadata": {
    "nbgrader": {
     "grade": true,
     "grade_id": "cell-816895ca5f596490",
     "locked": true,
     "points": 1,
     "schema_version": 3,
     "solution": false,
     "task": false
    }
   },
   "outputs": [],
   "source": [
    "# 1 Mark\n",
    "assert(words1 == question3_a())\n",
    "print('test case passed!')"
   ]
  },
  {
   "cell_type": "markdown",
   "metadata": {
    "nbgrader": {
     "grade": false,
     "grade_id": "cell-a39594b568c56b62",
     "locked": true,
     "schema_version": 3,
     "solution": false,
     "task": false
    }
   },
   "source": [
    "(b) Use the <code>join</code> method to create, from <code>words1</code>, a string <code>string2</code> identical to <code>string1</code>."
   ]
  },
  {
   "cell_type": "code",
   "execution_count": null,
   "metadata": {
    "nbgrader": {
     "grade": false,
     "grade_id": "cell-2bd5ec6af751e194",
     "locked": false,
     "schema_version": 3,
     "solution": true,
     "task": false
    }
   },
   "outputs": [],
   "source": [
    "string2 = # (delete, and fill in your code)\n",
    "\n",
    "print(string2)\n",
    "\n",
    "### BEGIN SOLUTION\n",
    "string2 = \" \".join(words1)\n",
    "### END SOLUTION"
   ]
  },
  {
   "cell_type": "code",
   "execution_count": null,
   "metadata": {
    "nbgrader": {
     "grade": true,
     "grade_id": "cell-ff5c25cf76611791",
     "locked": true,
     "points": 1,
     "schema_version": 3,
     "solution": false,
     "task": false
    }
   },
   "outputs": [],
   "source": [
    "# 1 Mark\n",
    "assert(string2 == question3_b())\n",
    "print('test case passed!')"
   ]
  },
  {
   "cell_type": "markdown",
   "metadata": {
    "nbgrader": {
     "grade": false,
     "grade_id": "cell-40edae2d13df9d7a",
     "locked": true,
     "schema_version": 3,
     "solution": false,
     "task": false
    }
   },
   "source": [
    "(c) Use the <code>lower</code> method, the <code>split</code> method, the <code>join</code> method and the <code>sort</code> method (the last of these isn't in the notes, so <a href='https://www.w3schools.com/python/'>www.w3schools.com/python/</a> may be useful) to create a string <code>string3</code> consisting of all the words in <code>string1</code>, rendered in lower case, in alphabetical order. Words should be separated by a comma and a space, like so:\n",
    "\n",
    "```python\n",
    "'brown, dog, ...'\n",
    "```"
   ]
  },
  {
   "cell_type": "code",
   "execution_count": null,
   "metadata": {
    "nbgrader": {
     "grade": false,
     "grade_id": "cell-8be204034cff30b1",
     "locked": false,
     "schema_version": 3,
     "solution": true,
     "task": false
    }
   },
   "outputs": [],
   "source": [
    "# write your code here\n",
    "\n",
    "print(string3)\n",
    "### BEGIN SOLUTION\n",
    "words2 = string1.lower().split()\n",
    "words2.sort()\n",
    "string3 = \", \".join(words2)\n",
    "### END SOLUTION"
   ]
  },
  {
   "cell_type": "code",
   "execution_count": null,
   "metadata": {
    "nbgrader": {
     "grade": true,
     "grade_id": "cell-1328bc4b570e5f94",
     "locked": true,
     "points": 1,
     "schema_version": 3,
     "solution": false,
     "task": false
    }
   },
   "outputs": [],
   "source": [
    "# 1 Mark\n",
    "assert(string3 == question3_c())\n",
    "print('test case passed!')"
   ]
  },
  {
   "cell_type": "markdown",
   "metadata": {
    "nbgrader": {
     "grade": false,
     "grade_id": "cell-402bdfef0755d411",
     "locked": true,
     "schema_version": 3,
     "solution": false,
     "task": false
    }
   },
   "source": [
    "(d) Use the <code>replace</code> method to create a string <code>string4</code>, which is identical to <code>string1</code>, except that the word 'dog' has been replaced with the word 'cat'."
   ]
  },
  {
   "cell_type": "code",
   "execution_count": null,
   "metadata": {
    "nbgrader": {
     "grade": false,
     "grade_id": "cell-0474845fee817e64",
     "locked": false,
     "schema_version": 3,
     "solution": true,
     "task": false
    }
   },
   "outputs": [],
   "source": [
    "string4 = # (delete, and insert code here)\n",
    "\n",
    "print(string4)\n",
    "### BEGIN SOLUTION\n",
    "string4 = string1.replace('dog', 'cat')\n",
    "### END SOLUTION"
   ]
  },
  {
   "cell_type": "code",
   "execution_count": null,
   "metadata": {
    "nbgrader": {
     "grade": true,
     "grade_id": "cell-8b747e7833b7a9e3",
     "locked": true,
     "points": 1,
     "schema_version": 3,
     "solution": false,
     "task": false
    }
   },
   "outputs": [],
   "source": [
    "# 1 Mark\n",
    "assert(string4 == question3_d())\n",
    "print('test case passed!')"
   ]
  },
  {
   "cell_type": "markdown",
   "metadata": {
    "nbgrader": {
     "grade": false,
     "grade_id": "cell-c465a7ea82927141",
     "locked": true,
     "schema_version": 3,
     "solution": false,
     "task": false
    }
   },
   "source": [
    "(e) Use the <code>replace</code> method to create a string <code>string5</code>, which is identical to <code>string1</code>, except that the words 'fox' and 'dog' have been swapped. (This may need a little thought.)"
   ]
  },
  {
   "cell_type": "code",
   "execution_count": null,
   "metadata": {
    "nbgrader": {
     "grade": false,
     "grade_id": "cell-1ac7e30bd9651e4e",
     "locked": false,
     "schema_version": 3,
     "solution": true,
     "task": false
    }
   },
   "outputs": [],
   "source": [
    "string5 = # (delete, and insert code here)\n",
    "\n",
    "print(string5)\n",
    "### BEGIN SOLUTION\n",
    "string5 = string1.replace('dog','???').replace('fox','dog').replace('???','fox')\n",
    "### END SOLUTION"
   ]
  },
  {
   "cell_type": "code",
   "execution_count": null,
   "metadata": {
    "nbgrader": {
     "grade": true,
     "grade_id": "cell-d26a3fdceb860e6c",
     "locked": true,
     "points": 1,
     "schema_version": 3,
     "solution": false,
     "task": false
    }
   },
   "outputs": [],
   "source": [
    "# 1 Mark\n",
    "assert(string5 == question3_e())\n",
    "print('test case passed!')"
   ]
  },
  {
   "cell_type": "markdown",
   "metadata": {
    "nbgrader": {
     "grade": false,
     "grade_id": "cell-2b673ded35c70ee7",
     "locked": true,
     "schema_version": 3,
     "solution": false,
     "task": false
    }
   },
   "source": [
    "## Question 4(i)\n",
    "\n",
    "The following code uses a template, and the <code>format</code> method, to create a string, <code>polyhedron1</code>, that represents a true statement about the tetrahedron."
   ]
  },
  {
   "cell_type": "code",
   "execution_count": 1,
   "metadata": {
    "nbgrader": {
     "grade": false,
     "grade_id": "cell-6810745c4501e3c0",
     "locked": true,
     "schema_version": 3,
     "solution": false,
     "task": false
    }
   },
   "outputs": [
    {
     "name": "stdout",
     "output_type": "stream",
     "text": [
      "The regular solid known as the tetrahedron has 4 triangular faces, 6 edges and 4 vertices.\n"
     ]
    }
   ],
   "source": [
    "polyhedron_template = 'The regular solid known as the {} has {} {} faces, {} edges and {} vertices.'\n",
    "\n",
    "polyhedron1 = polyhedron_template.format('tetrahedron', 4, 'triangular', 6, 4)\n",
    "\n",
    "print(polyhedron1)"
   ]
  },
  {
   "cell_type": "markdown",
   "metadata": {
    "nbgrader": {
     "grade": false,
     "grade_id": "cell-634e880692ffe29e",
     "locked": true,
     "schema_version": 3,
     "solution": false,
     "task": false
    }
   },
   "source": [
    "(a) Using the same template, but different arguments to the <code>format</code> method, create strings <code>polyhedron2</code> and <code>polyhedron3</code> representing true statements about the cube and the octahedron respectively."
   ]
  },
  {
   "cell_type": "code",
   "execution_count": 2,
   "metadata": {
    "nbgrader": {
     "grade": false,
     "grade_id": "cell-900127b037e04dbb",
     "locked": false,
     "schema_version": 3,
     "solution": true,
     "task": false
    }
   },
   "outputs": [],
   "source": [
    "polyhedron2 = # (delete, and insert code here)\n",
    "polyhedron3 = # (delete, and insert code here)\n",
    "print(polyhedron2)\n",
    "print(polyhedron3)\n",
    "### BEGIN SOLUTION\n",
    "polyhedron2 = polyhedron_template.format('cube', 6, 'square', 12, 8)\n",
    "polyhedron3 = polyhedron_template.format('octahedron', 8, 'triangular', 12, 6)\n",
    "### END SOLUTION"
   ]
  },
  {
   "cell_type": "code",
   "execution_count": null,
   "metadata": {
    "nbgrader": {
     "grade": true,
     "grade_id": "cell-0373209931e68134",
     "locked": true,
     "points": 2,
     "schema_version": 3,
     "solution": false,
     "task": false
    }
   },
   "outputs": [],
   "source": [
    "# 2 Marks\n",
    "# Do not try to delete this cell\n",
    "# Run this cell for grading\n",
    "_globals = globals()\n",
    "question4i_a(_globals)"
   ]
  },
  {
   "cell_type": "markdown",
   "metadata": {
    "nbgrader": {
     "grade": false,
     "grade_id": "cell-d2409930218830bd",
     "locked": true,
     "schema_version": 3,
     "solution": false,
     "task": false
    }
   },
   "source": [
    "(b) The data we need to use in a call to <code>format</code> doesn't always come in a convenient order. Write a new template called <code>polyhedron_template2</code>, written so that the input\n",
    "```python\n",
    "polyhedron_template2.format(8,12,6,'square','cube')\n",
    "```\n",
    "creates a string identical to <code>polyhedron2</code>. Test it on the other two examples."
   ]
  },
  {
   "cell_type": "code",
   "execution_count": 3,
   "metadata": {
    "nbgrader": {
     "grade": false,
     "grade_id": "cell-98df2ff7aaa91555",
     "locked": false,
     "schema_version": 3,
     "solution": true,
     "task": false
    }
   },
   "outputs": [],
   "source": [
    "polyhedron_template2 = # (delete, and insert code here)\n",
    "polyhedron_template2.format(8,12,6,'square','cube')\n",
    "### BEGIN SOLUTION\n",
    "polyhedron_template2 = 'The regular solid known as the {4} has {2} {3} faces, {1} edges and {0} vertices.'\n",
    "### END SOLUTION"
   ]
  },
  {
   "cell_type": "code",
   "execution_count": null,
   "metadata": {
    "nbgrader": {
     "grade": true,
     "grade_id": "cell-c330f1df1757c6bf",
     "locked": true,
     "points": 1,
     "schema_version": 3,
     "solution": false,
     "task": false
    }
   },
   "outputs": [],
   "source": [
    "# 1 Mark\n",
    "assert(polyhedron_template2.format(8,12,6,'square','cube') == question4i_b())\n",
    "print('test case passed!')"
   ]
  },
  {
   "cell_type": "markdown",
   "metadata": {
    "nbgrader": {
     "grade": false,
     "grade_id": "cell-983c796eeadf7369",
     "locked": true,
     "schema_version": 3,
     "solution": false,
     "task": false
    }
   },
   "source": [
    "(c) Sometimes we need to work with <em>lists</em> of data. One way to do this is using an asterisk: "
   ]
  },
  {
   "cell_type": "code",
   "execution_count": 4,
   "metadata": {
    "nbgrader": {
     "grade": false,
     "grade_id": "cell-5dc60d4ea64702a2",
     "locked": true,
     "schema_version": 3,
     "solution": false,
     "task": false
    }
   },
   "outputs": [
    {
     "data": {
      "text/plain": [
       "'The regular solid known as the cube has 6 square faces, 12 edges and 8 vertices.'"
      ]
     },
     "execution_count": 4,
     "metadata": {},
     "output_type": "execute_result"
    }
   ],
   "source": [
    "cube_data = [8, 12, 6, 'square', 'cube']\n",
    "polyhedron_template2.format(*cube_data)"
   ]
  },
  {
   "cell_type": "markdown",
   "metadata": {
    "nbgrader": {
     "grade": false,
     "grade_id": "cell-b683c31c4dbbcf39",
     "locked": true,
     "schema_version": 3,
     "solution": false,
     "task": false
    }
   },
   "source": [
    "The asterisk has the effect of \"removing the brackets\" from the list, converting it into a sequence of arguments; it's a really useful trick.\n",
    "\n",
    "However, there's another way of doing it we'd like you to try to discover.\n",
    "\n",
    "Write a third template called <code>polyhedron_template3</code>, written so that the following code...\n",
    "```python\n",
    "cube_data = [8, 12, 6, 'square', 'cube']\n",
    "polyhedron_template3.format(cube_data)\n",
    "```\n",
    "... creates a string identical to <code>polyhedron2</code>. (Notice: no asterisk!) Test it on the other two examples."
   ]
  },
  {
   "cell_type": "code",
   "execution_count": null,
   "metadata": {
    "nbgrader": {
     "grade": false,
     "grade_id": "cell-404d63938f8efa3f",
     "locked": false,
     "schema_version": 3,
     "solution": true,
     "task": false
    }
   },
   "outputs": [],
   "source": [
    "polyhedron_template3 = # (delete, and insert code here)\n",
    "cube_data = [8, 12, 6, 'square', 'cube']\n",
    "polyhedron_template3.format(cube_data)\n",
    "### BEGIN SOLUTION\n",
    "polyhedron_template3 = 'The regular solid known as the {0[4]} has {0[2]} {0[3]} faces, {0[1]} edges and {0[0]} vertices.'\n",
    "### END SOLUTION"
   ]
  },
  {
   "cell_type": "code",
   "execution_count": null,
   "metadata": {
    "nbgrader": {
     "grade": true,
     "grade_id": "cell-9ea07bfd55d9cb07",
     "locked": true,
     "points": 1,
     "schema_version": 3,
     "solution": false,
     "task": false
    }
   },
   "outputs": [],
   "source": [
    "# 1 Mark\n",
    "cube_data = [8, 12, 6, 'square', 'cube']\n",
    "assert(polyhedron_template3.format(cube_data) == question4i_c())\n",
    "print('test case passed!')"
   ]
  },
  {
   "cell_type": "markdown",
   "metadata": {
    "nbgrader": {
     "grade": false,
     "grade_id": "cell-a0f7092eaf9a8730",
     "locked": true,
     "schema_version": 3,
     "solution": false,
     "task": false
    }
   },
   "source": [
    "## Question 4(ii)\n",
    "\n",
    "The string\n",
    "```python\n",
    "'The roots of x^2 - 49 x + 594 = 0 are x = 27 and x = 22'\n",
    "```\n",
    "was created using string formatting: the values 27 and 22 were chosen at random between 2 and 30, and then used to generate the coefficients in the quadratic.\n",
    "\n",
    "Generate a string using string formatting in this way, with fresh random choices of integer between 2 and 30. (Make sure the space characters <em>exactly</em> correspond to the example, or the autograding may not work!) Do this\n",
    "\n",
    "(a) using the `format` method, calling your string `quad_string_a`;"
   ]
  },
  {
   "cell_type": "code",
   "execution_count": 2,
   "metadata": {
    "nbgrader": {
     "grade": false,
     "grade_id": "cell-afd7548e4ee9179b",
     "locked": false,
     "schema_version": 3,
     "solution": true,
     "task": false
    }
   },
   "outputs": [
    {
     "name": "stdout",
     "output_type": "stream",
     "text": [
      "The roots of x^2 - 22 x + 96 = 0 are x = 16 and x = 6\n"
     ]
    }
   ],
   "source": [
    "### BEGIN SOLUTION\n",
    "from random import randint\n",
    "a = randint(2,30)\n",
    "b = randint(2,30)\n",
    "quad_string_a = 'The roots of x^2 - {} x + {} = 0 are x = {} and x = {}'.format(a+b,a*b,a,b)\n",
    "### END SOLUTION\n",
    "\n",
    "print(quad_string_a)"
   ]
  },
  {
   "cell_type": "code",
   "execution_count": 3,
   "metadata": {
    "nbgrader": {
     "grade": true,
     "grade_id": "cell-639aedb1f006ab25",
     "locked": true,
     "points": 1,
     "schema_version": 3,
     "solution": false,
     "task": false
    }
   },
   "outputs": [
    {
     "name": "stdout",
     "output_type": "stream",
     "text": [
      "Test passed!\n"
     ]
    },
    {
     "data": {
      "text/plain": [
       "1"
      ]
     },
     "execution_count": 3,
     "metadata": {},
     "output_type": "execute_result"
    }
   ],
   "source": [
    "# 1 Mark\n",
    "# Do not try to delete this cell\n",
    "# Run this cell for grading\n",
    "_globals = globals()\n",
    "question4ii_a(_globals)"
   ]
  },
  {
   "cell_type": "markdown",
   "metadata": {
    "nbgrader": {
     "grade": false,
     "grade_id": "cell-808c67f64888eb6d",
     "locked": true,
     "schema_version": 3,
     "solution": false,
     "task": false
    }
   },
   "source": [
    "(b) using an f-string, calling your string `quad_string_b`."
   ]
  },
  {
   "cell_type": "code",
   "execution_count": 4,
   "metadata": {
    "nbgrader": {
     "grade": false,
     "grade_id": "cell-94b92da8ce010f9f",
     "locked": false,
     "schema_version": 3,
     "solution": true,
     "task": false
    }
   },
   "outputs": [
    {
     "name": "stdout",
     "output_type": "stream",
     "text": [
      "The roots of x^2 - 28 x + 180 = 0 are x = 10 and x = 18\n"
     ]
    }
   ],
   "source": [
    "### BEGIN SOLUTION\n",
    "from random import randint\n",
    "a = randint(2,30)\n",
    "b = randint(2,30)\n",
    "quad_string_b = f'The roots of x^2 - {a+b} x + {a*b} = 0 are x = {a} and x = {b}'\n",
    "### END SOLUTION\n",
    "\n",
    "print(quad_string_b)"
   ]
  },
  {
   "cell_type": "code",
   "execution_count": 5,
   "metadata": {
    "nbgrader": {
     "grade": true,
     "grade_id": "cell-c72bc06af2cc9bcd",
     "locked": true,
     "points": 1,
     "schema_version": 3,
     "solution": false,
     "task": false
    }
   },
   "outputs": [
    {
     "name": "stdout",
     "output_type": "stream",
     "text": [
      "Test passed!\n"
     ]
    },
    {
     "data": {
      "text/plain": [
       "1"
      ]
     },
     "execution_count": 5,
     "metadata": {},
     "output_type": "execute_result"
    }
   ],
   "source": [
    "# 1 Mark\n",
    "# Do not try to delete this cell\n",
    "# Run this cell for grading\n",
    "_globals = globals()\n",
    "question4ii_b(_globals)"
   ]
  },
  {
   "cell_type": "code",
   "execution_count": null,
   "metadata": {},
   "outputs": [],
   "source": []
  }
 ],
 "metadata": {
  "celltoolbar": "Create Assignment",
  "kernelspec": {
   "display_name": "Python 3 (ipykernel)",
   "language": "python",
   "name": "python3"
  },
  "language_info": {
   "codemirror_mode": {
    "name": "ipython",
    "version": 3
   },
   "file_extension": ".py",
   "mimetype": "text/x-python",
   "name": "python",
   "nbconvert_exporter": "python",
   "pygments_lexer": "ipython3",
   "version": "3.11.5"
  }
 },
 "nbformat": 4,
 "nbformat_minor": 4
}
